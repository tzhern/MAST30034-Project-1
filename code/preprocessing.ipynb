{
 "cells": [
  {
   "cell_type": "markdown",
   "metadata": {},
   "source": [
    "In this notebook we will be preprocessing the following raw data:\n",
    "- Yellow taxi data (2018)"
   ]
  },
  {
   "cell_type": "code",
   "execution_count": 2,
   "metadata": {},
   "outputs": [],
   "source": [
    "from pyspark.sql import SparkSession\n",
    "from pyspark.sql.types import *\n",
    "import pyspark.sql.functions as F\n",
    "import matplotlib.pyplot as plt\n",
    "import seaborn as sns\n",
    "import pandas as pd\n",
    "import numpy as np\n",
    "\n",
    "import warnings\n",
    "warnings.filterwarnings(\"ignore\")\n",
    "\n",
    "spark = SparkSession.builder.getOrCreate()\n",
    "\n",
    "spark.conf.set('spark.sql.repl.eagerEval.enabled', True)    # make it looks good\n",
    "spark.conf.set('spark.sql.execution.arrow.pyspark.enabled', True)   # enable spark arrow"
   ]
  },
  {
   "cell_type": "code",
   "execution_count": null,
   "metadata": {},
   "outputs": [],
   "source": [
    "# download dataset\n",
    "from os.path import getsize\n",
    "from urllib.request import urlretrieve\n",
    "\n",
    "# you will need to create the \"large\" folder if it does not exist\n",
    "# you can also change this to change where you want the data to be downloaded\n",
    "output_dir = \"../raw_data\"\n",
    "\n",
    "def download_data(fname_template, start, end):\n",
    "    # template for the type of taxi / year you wish to download\n",
    "\n",
    "    # change range(x, y) to be the months you want\n",
    "    for m in range(start, end):\n",
    "        month = str(m).zfill(2)\n",
    "        out = f'{fname_template}-{month}.csv'\n",
    "        url = f\"https://s3.amazonaws.com/nyc-tlc/trip+data/{out}\"\n",
    "        urlretrieve(url, f\"{output_dir}/{out}\")\n",
    "\n",
    "        print(f\"Done downloading {out} to {output_dir} with size {getsize(f'{output_dir}/{out}') / 1073741824:.2f}GB\")\n",
    "\n",
    "        \n",
    "download_data(\"yellow_tripdata_2018\" 1, 3)\n",
    "download_data(\"yellow_tripdata_2018\" 6, 9)\n",
    "download_data(\"yellow_tripdata_2018\" 12, 13)\n",
    "download_data(\"yellow_tripdata_2018\" 2, 3)\n",
    "download_data(\"yellow_tripdata_2018\" 7, 8)\n",
    "download_data(\"yellow_tripdata_2018\" 12, 13)"
   ]
  },
  {
   "cell_type": "code",
   "execution_count": 115,
   "metadata": {},
   "outputs": [
    {
     "data": {
      "text/html": [
       "<table border='1'>\n",
       "<tr><th>VendorID</th><th>tpep_pickup_datetime</th><th>tpep_dropoff_datetime</th><th>passenger_count</th><th>trip_distance</th><th>RatecodeID</th><th>store_and_fwd_flag</th><th>PULocationID</th><th>DOLocationID</th><th>payment_type</th><th>fare_amount</th><th>extra</th><th>mta_tax</th><th>tip_amount</th><th>tolls_amount</th><th>improvement_surcharge</th><th>total_amount</th></tr>\n",
       "<tr><td>1</td><td>2018-01-01 00:21:05</td><td>2018-01-01 00:24:23</td><td>1</td><td>.50</td><td>1</td><td>N</td><td>41</td><td>24</td><td>2</td><td>4.5</td><td>0.5</td><td>0.5</td><td>0</td><td>0</td><td>0.3</td><td>5.8</td></tr>\n",
       "<tr><td>1</td><td>2018-01-01 00:44:55</td><td>2018-01-01 01:03:05</td><td>1</td><td>2.70</td><td>1</td><td>N</td><td>239</td><td>140</td><td>2</td><td>14</td><td>0.5</td><td>0.5</td><td>0</td><td>0</td><td>0.3</td><td>15.3</td></tr>\n",
       "<tr><td>1</td><td>2018-01-01 00:08:26</td><td>2018-01-01 00:14:21</td><td>2</td><td>.80</td><td>1</td><td>N</td><td>262</td><td>141</td><td>1</td><td>6</td><td>0.5</td><td>0.5</td><td>1</td><td>0</td><td>0.3</td><td>8.3</td></tr>\n",
       "</table>\n"
      ],
      "text/plain": [
       "+--------+--------------------+---------------------+---------------+-------------+----------+------------------+------------+------------+------------+-----------+-----+-------+----------+------------+---------------------+------------+\n",
       "|VendorID|tpep_pickup_datetime|tpep_dropoff_datetime|passenger_count|trip_distance|RatecodeID|store_and_fwd_flag|PULocationID|DOLocationID|payment_type|fare_amount|extra|mta_tax|tip_amount|tolls_amount|improvement_surcharge|total_amount|\n",
       "+--------+--------------------+---------------------+---------------+-------------+----------+------------------+------------+------------+------------+-----------+-----+-------+----------+------------+---------------------+------------+\n",
       "|       1| 2018-01-01 00:21:05|  2018-01-01 00:24:23|              1|          .50|         1|                 N|          41|          24|           2|        4.5|  0.5|    0.5|         0|           0|                  0.3|         5.8|\n",
       "|       1| 2018-01-01 00:44:55|  2018-01-01 01:03:05|              1|         2.70|         1|                 N|         239|         140|           2|         14|  0.5|    0.5|         0|           0|                  0.3|        15.3|\n",
       "|       1| 2018-01-01 00:08:26|  2018-01-01 00:14:21|              2|          .80|         1|                 N|         262|         141|           1|          6|  0.5|    0.5|         1|           0|                  0.3|         8.3|\n",
       "+--------+--------------------+---------------------+---------------+-------------+----------+------------------+------------+------------+------------+-----------+-----+-------+----------+------------+---------------------+------------+"
      ]
     },
     "execution_count": 115,
     "metadata": {},
     "output_type": "execute_result"
    }
   ],
   "source": [
    "# Load dataset\n",
    "## yellow taxi 2018 (1, 2, 6, 7, 8, 12 month)\n",
    "\n",
    "yellow_1801_sdf = spark.read.csv('../raw_data/yellow_tripdata_2018-01.csv', header=True)\n",
    "yellow_1802_sdf = spark.read.csv('../raw_data/yellow_tripdata_2018-02.csv', header=True)\n",
    "yellow_1806_sdf = spark.read.csv('../raw_data/yellow_tripdata_2018-06.csv', header=True)\n",
    "yellow_1807_sdf = spark.read.csv('../raw_data/yellow_tripdata_2018-07.csv', header=True)\n",
    "yellow_1808_sdf = spark.read.csv('../raw_data/yellow_tripdata_2018-08.csv', header=True)\n",
    "yellow_1812_sdf = spark.read.csv('../raw_data/yellow_tripdata_2018-12.csv', header=True)\n",
    "\n",
    "# merge datasets\n",
    "sdf = yellow_1801_sdf.unionAll(yellow_1802_sdf).unionAll(yellow_1806_sdf).unionAll(yellow_1807_sdf).unionAll(yellow_1808_sdf).unionAll(yellow_1812_sdf)\n",
    "\n",
    "sdf.limit(3)"
   ]
  },
  {
   "cell_type": "code",
   "execution_count": 3,
   "metadata": {},
   "outputs": [
    {
     "data": {
      "text/plain": [
       "49837894"
      ]
     },
     "execution_count": 3,
     "metadata": {},
     "output_type": "execute_result"
    }
   ],
   "source": [
    "# raw data row count\n",
    "sdf.count()"
   ]
  },
  {
   "cell_type": "markdown",
   "metadata": {},
   "source": [
    "Data Preprocessing\n",
    "1.  Fix the dtype issues (there are all string type by default)\n",
    "2.  Extract some simple but useful features\n",
    "3. Remove unwanted columns\n",
    "4.  Remove outlier (mean +- 3 * stdv)"
   ]
  },
  {
   "cell_type": "code",
   "execution_count": 116,
   "metadata": {},
   "outputs": [],
   "source": [
    "# change column dtypes\n",
    "\n",
    "ints = ('VendorID', 'passenger_count', 'RateCodeID', 'RatecodeID', 'payment_type', 'trip_type', 'DOlocationID', 'DOLocationID', 'PUlocationID', 'PULocationID')\n",
    "doubles = ('trip_distance', 'pickup_longitude', 'pickup_latitude', 'dropoff_longitude', 'dropoff_latitude',\n",
    "           'fare_amount', 'extra', 'mta_tax', 'tip_amount', 'tolls_amount', 'improvement_surcharge', 'total_amount')\n",
    "strings = ('store_and_fwd_flag', 'ehail_fee', 'SR_Flag', 'Dispatching_base_num', 'Dispatching_base_number')\n",
    "dtimes = ('lpep_pickup_datetime', 'lpep_dropoff_datetime', 'Pickup_DateTime', 'DropOff_datetime', 'tpep_pickup_datetime', 'tpep_dropoff_datetime')\n",
    "\n",
    "dtypes = {column: IntegerType() for column in ints}\n",
    "dtypes.update({column: DoubleType() for column in doubles})\n",
    "dtypes.update({column: StringType() for column in strings})\n",
    "dtypes.update({column: TimestampType() for column in dtimes})\n",
    "\n",
    "for column in sdf.columns:\n",
    "    sdf = sdf.withColumn(column, sdf[column].cast(dtypes[column]))"
   ]
  },
  {
   "cell_type": "code",
   "execution_count": 117,
   "metadata": {},
   "outputs": [],
   "source": [
    "# extract some useful features\n",
    "# trip duration in minutes\n",
    "sdf = sdf.withColumn('trip_duration_min', (F.col('tpep_dropoff_datetime').cast('long') - F.col('tpep_pickup_datetime').cast('long'))/60.)\n",
    "\n",
    "# pickup day of week\n",
    "sdf = sdf.withColumn('pickup_day', F.date_format('tpep_pickup_datetime', 'E'))\n",
    "\n",
    "# pickup hour\n",
    "sdf = sdf.withColumn('pickup_hour', F.date_format('tpep_pickup_datetime', 'H'))\n",
    "sdf = sdf.withColumn('pickup_hour', sdf['pickup_hour'].cast(IntegerType())) # convert to int type\n",
    "\n",
    "# total_surcharge\n",
    "sdf = sdf.withColumn('total_surcharge', (F.col('extra') + F.col('mta_tax') + F.col('tolls_amount') + F.col('improvement_surcharge')))\n",
    "sdf = sdf.withColumn('total_surcharge', sdf['total_surcharge'].cast(DoubleType()))  # convert to double type\n",
    "\n",
    "# remove unwanted columns\n",
    "drop_cols = ['VendorID', 'RatecodeID', 'store_and_fwd_flag', 'extra', 'mta_tax', 'tolls_amount', 'improvement_surcharge']\n",
    "sdf = sdf.drop(*drop_cols)"
   ]
  },
  {
   "cell_type": "code",
   "execution_count": 9,
   "metadata": {},
   "outputs": [
    {
     "data": {
      "image/png": "[encoded data removed]",
      "text/plain": [
       "<Figure size 432x288 with 1 Axes>"
      ]
     },
     "metadata": {
      "needs_background": "light"
     },
     "output_type": "display_data"
    }
   ],
   "source": [
    "# We now look at the distribution of the raw data\n",
    "\n",
    "# before preprocessing\n",
    "# boxplot of trip duration\n",
    "trip_duration_df = sdf.select('trip_duration_min').toPandas()\n",
    "sns.boxplot(x = trip_duration_df['trip_duration_min'])\n",
    "plt.title('Boxplot of Trip Duration')\n",
    "plt.ylabel('Trip duration (minutes)')\n",
    "plt.xlabel('')\n",
    "plt.savefig('../plots/trip_duration_raw_boxplot.png')\n",
    "plt.show()"
   ]
  },
  {
   "cell_type": "code",
   "execution_count": 10,
   "metadata": {},
   "outputs": [
    {
     "data": {
      "image/png": "[encoded data removed]",
      "text/plain": [
       "<Figure size 432x288 with 1 Axes>"
      ]
     },
     "metadata": {
      "needs_background": "light"
     },
     "output_type": "display_data"
    }
   ],
   "source": [
    "# before preprocessing\n",
    "# boxplot of fare amount\n",
    "fare_amount_df = sdf.select('fare_amount').toPandas()\n",
    "sns.boxplot(x = fare_amount_df['fare_amount'])\n",
    "plt.title('Boxplot of Fare Amount')\n",
    "plt.ylabel('Fare Amount ($)')\n",
    "plt.xlabel('')\n",
    "plt.savefig('../plots/fare_amount_raw_boxplot.png')\n",
    "plt.show()"
   ]
  },
  {
   "cell_type": "code",
   "execution_count": 12,
   "metadata": {},
   "outputs": [],
   "source": [
    "# list numeric columns to be preprocessed\n",
    "yellow_num_cols = ['passenger_count', 'trip_distance', 'fare_amount', 'tip_amount', 'total_amount', 'trip_duration_min', 'total_surcharge']\n",
    "yellow_mean_stdv = sdf.agg( *[F.mean(colName).alias('mean_{}'.format(colName)) for colName in yellow_num_cols],\n",
    "                           *[F.stddev(colName).alias('stddev_{}'.format(colName)) for colName in yellow_num_cols])\n",
    "\n",
    "yellow_mean_std_min_max = yellow_mean_stdv\n",
    "\n",
    "# flag mean +- 3 * stdv as outliers\n",
    "for colName in yellow_num_cols:\n",
    "    meanCol = 'mean_{}'.format(colName)\n",
    "    stddevCol = 'stddev_{}'.format(colName)\n",
    "    minCol = 'min_{}'.format(colName)\n",
    "    maxCol = 'max_{}'.format(colName)\n",
    "    yellow_mean_std_min_max = yellow_mean_std_min_max.withColumn(minCol, F.col(meanCol) - 3 * F.col(stddevCol))\n",
    "    yellow_mean_std_min_max = yellow_mean_std_min_max.withColumn(maxCol, F.col(meanCol) + 3 * F.col(stddevCol))\n",
    "\n",
    "yellow_outliers = sdf.join(yellow_mean_std_min_max)\n",
    "for colName in yellow_num_cols:\n",
    "    isOutlierCol = 'is_outlier_{}'.format(colName)\n",
    "    minCol = 'min_{}'.format(colName)\n",
    "    maxCol = 'max_{}'.format(colName)\n",
    "    meanCol = 'mean_{}'.format(colName)\n",
    "    stddevCol = 'stddev_{}'.format(colName)\n",
    "    yellow_outliers = yellow_outliers.withColumn(isOutlierCol, F.when((F.col(colName) > F.col(maxCol)) | (F.col(colName) < F.col(minCol)), 1).otherwise(0))    \n",
    "    yellow_outliers = yellow_outliers.drop(minCol,maxCol, meanCol, stddevCol)\n",
    "\n",
    "# filter outliers\n",
    "yellow_clean_sdf = yellow_outliers.filter((yellow_outliers.is_outlier_passenger_count == 0) & \n",
    "                                            (yellow_outliers.is_outlier_trip_distance == 0) & \n",
    "                                            (yellow_outliers.is_outlier_fare_amount == 0) & \n",
    "                                            (yellow_outliers.is_outlier_tip_amount == 0) &\n",
    "                                            (yellow_outliers.is_outlier_total_surcharge == 0) &\n",
    "                                            (yellow_outliers.is_outlier_total_amount == 0) & \n",
    "                                            (yellow_outliers.is_outlier_trip_duration_min == 0))\n",
    "\n",
    "\n",
    "# remove outlier flag columns\n",
    "drop_cols = ['is_outlier_passenger_count', 'is_outlier_trip_distance', 'is_outlier_fare_amount', 'is_outlier_tip_amount', 'is_outlier_total_surcharge', 'is_outlier_total_amount', 'is_outlier_trip_duration_min']\n",
    "clean_sdf = yellow_clean_sdf.drop(*drop_cols)\n",
    "\n",
    "# do some futher simple outlier detection\n",
    "clean_sdf = clean_sdf.filter((sdf.payment_type == '1') | (sdf.payment_type == '2')) # select only payment type 1 and 2\n",
    "clean_sdf = clean_sdf.filter(sdf.trip_duration_min > 0) # 0 minute trip duration seems ridicilous\n",
    "clean_sdf = clean_sdf.filter(sdf.trip_distance > 0) # 0 mile seems ridicolous too!\n",
    "clean_sdf = clean_sdf.filter(sdf.passenger_count > 0)\n",
    "clean_sdf = clean_sdf.filter(sdf.fare_amount > 0)\n",
    "clean_sdf = clean_sdf.filter(sdf.tip_amount >= 0)\n",
    "clean_sdf = clean_sdf.filter(sdf.total_surcharge >= 0)\n",
    "clean_sdf = clean_sdf.filter(sdf.total_amount >= 0)"
   ]
  },
  {
   "cell_type": "code",
   "execution_count": 6,
   "metadata": {},
   "outputs": [
    {
     "data": {
      "text/plain": [
       "45908550"
      ]
     },
     "execution_count": 6,
     "metadata": {},
     "output_type": "execute_result"
    }
   ],
   "source": [
    "# clean data rows count\n",
    "clean_sdf.count()"
   ]
  },
  {
   "cell_type": "markdown",
   "metadata": {},
   "source": [
    "Now we plot the distribution of the preprocessed data"
   ]
  },
  {
   "cell_type": "code",
   "execution_count": 13,
   "metadata": {},
   "outputs": [
    {
     "data": {
      "image/png": "[encoded data removed]",
      "text/plain": [
       "<Figure size 432x288 with 1 Axes>"
      ]
     },
     "metadata": {
      "needs_background": "light"
     },
     "output_type": "display_data"
    }
   ],
   "source": [
    "# Trip duration distribution\n",
    "\n",
    "trip_duration_clean_df = clean_sdf.select('trip_duration_min').toPandas()\n",
    "sns.distplot(trip_duration_clean_df['trip_duration_min'], bins = int(np.sqrt(len(trip_duration_clean_df))))\n",
    "plt.title('Distribution of Trip Duration ')\n",
    "plt.xlabel('Trip duration (minutes)')\n",
    "plt.ylabel('Density')\n",
    "plt.savefig('../plots/trip_duration_clean_distplot.png')\n",
    "plt.show()"
   ]
  },
  {
   "cell_type": "code",
   "execution_count": 16,
   "metadata": {},
   "outputs": [
    {
     "data": {
      "image/png": "[encoded data removed]",
      "text/plain": [
       "<Figure size 432x288 with 1 Axes>"
      ]
     },
     "metadata": {
      "needs_background": "light"
     },
     "output_type": "display_data"
    }
   ],
   "source": [
    "# Fare amount distribution\n",
    "# we use rice binning for fare amount distribution\n",
    "def rice(x):\n",
    "    return int(2 * x ** (1/3))\n",
    "    \n",
    "fare_amount_clean_df = clean_sdf.select('fare_amount').toPandas()\n",
    "sns.distplot(fare_amount_clean_df['fare_amount'], bins = rice(len(fare_amount_clean_df)))\n",
    "plt.title('Distribution of Fare Amount')\n",
    "plt.xlabel('Fare Amount ($)')\n",
    "plt.savefig('../plots/fare_amount_clean_distplot.png')\n",
    "plt.show()"
   ]
  },
  {
   "cell_type": "code",
   "execution_count": 7,
   "metadata": {},
   "outputs": [],
   "source": [
    "# save clean data in parquet format\n",
    "clean_sdf.write.format('parquet').save('../preprocessed_data/clean_yellow.parquet')"
   ]
  },
  {
   "cell_type": "code",
   "execution_count": 3,
   "metadata": {},
   "outputs": [
    {
     "data": {
      "text/html": [
       "<div>\n",
       "<style scoped>\n",
       "    .dataframe tbody tr th:only-of-type {\n",
       "        vertical-align: middle;\n",
       "    }\n",
       "\n",
       "    .dataframe tbody tr th {\n",
       "        vertical-align: top;\n",
       "    }\n",
       "\n",
       "    .dataframe thead th {\n",
       "        text-align: right;\n",
       "    }\n",
       "</style>\n",
       "<table border=\"1\" class=\"dataframe\">\n",
       "  <thead>\n",
       "    <tr style=\"text-align: right;\">\n",
       "      <th></th>\n",
       "      <th>date</th>\n",
       "      <th>temp_ave</th>\n",
       "      <th>temp_max</th>\n",
       "      <th>temp_min</th>\n",
       "      <th>wind_ave</th>\n",
       "      <th>percip</th>\n",
       "      <th>snowfall</th>\n",
       "      <th>snowdepth</th>\n",
       "      <th>is_foggy</th>\n",
       "      <th>is_heavy_foggy</th>\n",
       "      <th>is_thunder</th>\n",
       "      <th>is_smoggy</th>\n",
       "    </tr>\n",
       "  </thead>\n",
       "  <tbody>\n",
       "    <tr>\n",
       "      <th>0</th>\n",
       "      <td>2018-01-01</td>\n",
       "      <td>-10.555556</td>\n",
       "      <td>-7.222222</td>\n",
       "      <td>-13.888889</td>\n",
       "      <td>7.83</td>\n",
       "      <td>0.00</td>\n",
       "      <td>0.0</td>\n",
       "      <td>0.0</td>\n",
       "      <td>0.0</td>\n",
       "      <td>0.0</td>\n",
       "      <td>0.0</td>\n",
       "      <td>0.0</td>\n",
       "    </tr>\n",
       "    <tr>\n",
       "      <th>1</th>\n",
       "      <td>2018-01-02</td>\n",
       "      <td>-6.944444</td>\n",
       "      <td>-3.333333</td>\n",
       "      <td>-10.555556</td>\n",
       "      <td>8.05</td>\n",
       "      <td>0.00</td>\n",
       "      <td>0.0</td>\n",
       "      <td>0.0</td>\n",
       "      <td>0.0</td>\n",
       "      <td>0.0</td>\n",
       "      <td>0.0</td>\n",
       "      <td>0.0</td>\n",
       "    </tr>\n",
       "    <tr>\n",
       "      <th>2</th>\n",
       "      <td>2018-01-03</td>\n",
       "      <td>-5.000000</td>\n",
       "      <td>-1.111111</td>\n",
       "      <td>-8.888889</td>\n",
       "      <td>3.13</td>\n",
       "      <td>0.00</td>\n",
       "      <td>0.0</td>\n",
       "      <td>0.0</td>\n",
       "      <td>0.0</td>\n",
       "      <td>0.0</td>\n",
       "      <td>0.0</td>\n",
       "      <td>0.0</td>\n",
       "    </tr>\n",
       "    <tr>\n",
       "      <th>3</th>\n",
       "      <td>2018-01-04</td>\n",
       "      <td>-4.444444</td>\n",
       "      <td>-1.666667</td>\n",
       "      <td>-7.222222</td>\n",
       "      <td>12.53</td>\n",
       "      <td>0.76</td>\n",
       "      <td>9.8</td>\n",
       "      <td>1.2</td>\n",
       "      <td>1.0</td>\n",
       "      <td>1.0</td>\n",
       "      <td>0.0</td>\n",
       "      <td>1.0</td>\n",
       "    </tr>\n",
       "    <tr>\n",
       "      <th>4</th>\n",
       "      <td>2018-01-05</td>\n",
       "      <td>-10.000000</td>\n",
       "      <td>-7.222222</td>\n",
       "      <td>-12.777778</td>\n",
       "      <td>12.97</td>\n",
       "      <td>0.00</td>\n",
       "      <td>0.0</td>\n",
       "      <td>7.1</td>\n",
       "      <td>0.0</td>\n",
       "      <td>0.0</td>\n",
       "      <td>0.0</td>\n",
       "      <td>0.0</td>\n",
       "    </tr>\n",
       "  </tbody>\n",
       "</table>\n",
       "</div>"
      ],
      "text/plain": [
       "        date   temp_ave  temp_max   temp_min  wind_ave  percip  snowfall  \\\n",
       "0 2018-01-01 -10.555556 -7.222222 -13.888889      7.83    0.00       0.0   \n",
       "1 2018-01-02  -6.944444 -3.333333 -10.555556      8.05    0.00       0.0   \n",
       "2 2018-01-03  -5.000000 -1.111111  -8.888889      3.13    0.00       0.0   \n",
       "3 2018-01-04  -4.444444 -1.666667  -7.222222     12.53    0.76       9.8   \n",
       "4 2018-01-05 -10.000000 -7.222222 -12.777778     12.97    0.00       0.0   \n",
       "\n",
       "   snowdepth  is_foggy  is_heavy_foggy  is_thunder  is_smoggy  \n",
       "0        0.0       0.0             0.0         0.0        0.0  \n",
       "1        0.0       0.0             0.0         0.0        0.0  \n",
       "2        0.0       0.0             0.0         0.0        0.0  \n",
       "3        1.2       1.0             1.0         0.0        1.0  \n",
       "4        7.1       0.0             0.0         0.0        0.0  "
      ]
     },
     "execution_count": 3,
     "metadata": {},
     "output_type": "execute_result"
    }
   ],
   "source": [
    "weather_df = pd.read_csv('../raw_data/nyc_weather_2018.csv',skiprows=[0])\n",
    "\n",
    "# change datetime datatype\n",
    "weather_df['DATE'] = pd.to_datetime(weather_df['DATE'])\n",
    "\n",
    "# select desired date\n",
    "weather_df = weather_df[((weather_df['DATE'] >= '2018-01-01') & (weather_df['DATE'] <= '2018-02-28')) | ((weather_df['DATE'] >= '2018-6-01') & (weather_df['DATE'] <= '2018-8-31')) | ((weather_df['DATE'] >= '2018-12-01') & (weather_df['DATE'] <= '2018-12-31'))]\n",
    "\n",
    "# temperature is in Fahrenheit, change to Celsius\n",
    "weather_df[['TMAX', 'TMIN']] = (weather_df[['TMAX', 'TMIN']] - 32) * 5/9\n",
    "\n",
    "# average temperature is missing, compute using (TMAX + TMIN) / 2\n",
    "weather_df['TAVG'] = (weather_df['TMAX'] + weather_df['TMIN']) / 2\n",
    "\n",
    "# select desired columns\n",
    "cols = ['DATE', 'TAVG', 'TMAX', 'TMIN','AWND','PRCP', 'SNOW', 'SNWD', 'WT01', 'WT02', 'WT03', 'WT08']\n",
    "weather_df[['WT01', 'WT02', 'WT03', 'WT08']] = weather_df[['WT01', 'WT02', 'WT03', 'WT08']].fillna(0)\n",
    "weather_df = weather_df[cols]\n",
    "\n",
    "# rename columns\n",
    "weather_df.columns = ['date', 'temp_ave', 'temp_max', 'temp_min', 'wind_ave', 'percip', 'snowfall', 'snowdepth', 'is_foggy', 'is_heavy_foggy', 'is_thunder', 'is_smoggy']\n",
    "\n",
    "weather_df.head()"
   ]
  },
  {
   "cell_type": "code",
   "execution_count": 110,
   "metadata": {},
   "outputs": [],
   "source": [
    "weather_df.to_csv('../preprocessed_data/nyc_weather_2018_clean.csv')"
   ]
  },
  {
   "cell_type": "code",
   "execution_count": null,
   "metadata": {},
   "outputs": [],
   "source": []
  }
 ],
 "metadata": {
  "interpreter": {
   "hash": "dce69896fdb445434427c12e791455610f9ef8e6bb07ea975426634cd43b3db3"
  },
  "kernelspec": {
   "display_name": "Python 3",
   "language": "python",
   "name": "python3"
  },
  "language_info": {
   "codemirror_mode": {
    "name": "ipython",
    "version": 3
   },
   "file_extension": ".py",
   "mimetype": "text/x-python",
   "name": "python",
   "nbconvert_exporter": "python",
   "pygments_lexer": "ipython3",
   "version": "3.8.8"
  }
 },
 "nbformat": 4,
 "nbformat_minor": 4
}
